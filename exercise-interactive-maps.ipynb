{
 "cells": [
  {
   "cell_type": "markdown",
   "id": "ba601e54",
   "metadata": {
    "papermill": {
     "duration": 0.012663,
     "end_time": "2023-12-20T09:55:04.577949",
     "exception": false,
     "start_time": "2023-12-20T09:55:04.565286",
     "status": "completed"
    },
    "tags": []
   },
   "source": [
    "**This notebook is an exercise in the [Geospatial Analysis](https://www.kaggle.com/learn/geospatial-analysis) course.  You can reference the tutorial at [this link](https://www.kaggle.com/alexisbcook/interactive-maps).**\n",
    "\n",
    "---\n"
   ]
  },
  {
   "cell_type": "markdown",
   "id": "089f74c1",
   "metadata": {
    "papermill": {
     "duration": 0.011477,
     "end_time": "2023-12-20T09:55:04.601465",
     "exception": false,
     "start_time": "2023-12-20T09:55:04.589988",
     "status": "completed"
    },
    "tags": []
   },
   "source": [
    "# Introduction\n",
    "\n",
    "You are an urban safety planner in Japan, and you are analyzing which areas of Japan need extra earthquake reinforcement.  Which areas are both high in population density and prone to earthquakes?\n",
    "\n",
    "<center>\n",
    "<img src=\"https://storage.googleapis.com/kaggle-media/learn/images/Kuh9gPj.png\" width=\"450\"><br/>\n",
    "</center>\n",
    "\n",
    "Before you get started, run the code cell below to set everything up."
   ]
  },
  {
   "cell_type": "code",
   "execution_count": 1,
   "id": "04549603",
   "metadata": {
    "execution": {
     "iopub.execute_input": "2023-12-20T09:55:04.627790Z",
     "iopub.status.busy": "2023-12-20T09:55:04.627366Z",
     "iopub.status.idle": "2023-12-20T09:55:05.798217Z",
     "shell.execute_reply": "2023-12-20T09:55:05.796905Z"
    },
    "papermill": {
     "duration": 1.187975,
     "end_time": "2023-12-20T09:55:05.801327",
     "exception": false,
     "start_time": "2023-12-20T09:55:04.613352",
     "status": "completed"
    },
    "tags": []
   },
   "outputs": [],
   "source": [
    "import pandas as pd\n",
    "import geopandas as gpd\n",
    "\n",
    "import folium\n",
    "from folium import Choropleth\n",
    "from folium.plugins import HeatMap\n",
    "\n",
    "from learntools.core import binder\n",
    "binder.bind(globals())\n",
    "from learntools.geospatial.ex3 import *"
   ]
  },
  {
   "cell_type": "markdown",
   "id": "d3fd8bd2",
   "metadata": {
    "papermill": {
     "duration": 0.011655,
     "end_time": "2023-12-20T09:55:05.825583",
     "exception": false,
     "start_time": "2023-12-20T09:55:05.813928",
     "status": "completed"
    },
    "tags": []
   },
   "source": [
    "We define a function `embed_map()` for displaying interactive maps. It accepts two arguments: the variable containing the map, and the name of the HTML file where the map will be saved.\n",
    "\n",
    "This function ensures that the maps are visible [in all web browsers](https://github.com/python-visualization/folium/issues/812)."
   ]
  },
  {
   "cell_type": "code",
   "execution_count": 2,
   "id": "db69392a",
   "metadata": {
    "execution": {
     "iopub.execute_input": "2023-12-20T09:55:05.851899Z",
     "iopub.status.busy": "2023-12-20T09:55:05.851016Z",
     "iopub.status.idle": "2023-12-20T09:55:05.856831Z",
     "shell.execute_reply": "2023-12-20T09:55:05.855795Z"
    },
    "papermill": {
     "duration": 0.021578,
     "end_time": "2023-12-20T09:55:05.859162",
     "exception": false,
     "start_time": "2023-12-20T09:55:05.837584",
     "status": "completed"
    },
    "tags": []
   },
   "outputs": [],
   "source": [
    "def embed_map(m, file_name):\n",
    "    from IPython.display import IFrame\n",
    "    m.save(file_name)\n",
    "    return IFrame(file_name, width='100%', height='500px')"
   ]
  },
  {
   "cell_type": "markdown",
   "id": "9f888a29",
   "metadata": {
    "papermill": {
     "duration": 0.011592,
     "end_time": "2023-12-20T09:55:05.882659",
     "exception": false,
     "start_time": "2023-12-20T09:55:05.871067",
     "status": "completed"
    },
    "tags": []
   },
   "source": [
    "# Exercises\n",
    "\n",
    "### 1) Do earthquakes coincide with plate boundaries?\n",
    "\n",
    "Run the code cell below to create a DataFrame `plate_boundaries` that shows global plate boundaries.  The \"coordinates\" column is a list of (latitude, longitude) locations along the boundaries."
   ]
  },
  {
   "cell_type": "code",
   "execution_count": 3,
   "id": "95df7dd9",
   "metadata": {
    "execution": {
     "iopub.execute_input": "2023-12-20T09:55:05.908695Z",
     "iopub.status.busy": "2023-12-20T09:55:05.907980Z",
     "iopub.status.idle": "2023-12-20T09:55:06.731364Z",
     "shell.execute_reply": "2023-12-20T09:55:06.730086Z"
    },
    "papermill": {
     "duration": 0.839837,
     "end_time": "2023-12-20T09:55:06.734446",
     "exception": false,
     "start_time": "2023-12-20T09:55:05.894609",
     "status": "completed"
    },
    "tags": []
   },
   "outputs": [
    {
     "data": {
      "text/html": [
       "<div>\n",
       "<style scoped>\n",
       "    .dataframe tbody tr th:only-of-type {\n",
       "        vertical-align: middle;\n",
       "    }\n",
       "\n",
       "    .dataframe tbody tr th {\n",
       "        vertical-align: top;\n",
       "    }\n",
       "\n",
       "    .dataframe thead th {\n",
       "        text-align: right;\n",
       "    }\n",
       "</style>\n",
       "<table border=\"1\" class=\"dataframe\">\n",
       "  <thead>\n",
       "    <tr style=\"text-align: right;\">\n",
       "      <th></th>\n",
       "      <th>HAZ_PLATES</th>\n",
       "      <th>HAZ_PLAT_1</th>\n",
       "      <th>HAZ_PLAT_2</th>\n",
       "      <th>Shape_Leng</th>\n",
       "      <th>coordinates</th>\n",
       "    </tr>\n",
       "  </thead>\n",
       "  <tbody>\n",
       "    <tr>\n",
       "      <th>0</th>\n",
       "      <td>TRENCH</td>\n",
       "      <td>SERAM TROUGH (ACTIVE)</td>\n",
       "      <td>6722</td>\n",
       "      <td>5.843467</td>\n",
       "      <td>[(-5.444200361999947, 133.6808931800001), (-5....</td>\n",
       "    </tr>\n",
       "    <tr>\n",
       "      <th>1</th>\n",
       "      <td>TRENCH</td>\n",
       "      <td>WETAR THRUST</td>\n",
       "      <td>6722</td>\n",
       "      <td>1.829013</td>\n",
       "      <td>[(-7.760600482999962, 125.47879802900002), (-7...</td>\n",
       "    </tr>\n",
       "    <tr>\n",
       "      <th>2</th>\n",
       "      <td>TRENCH</td>\n",
       "      <td>TRENCH WEST OF LUZON (MANILA TRENCH) NORTHERN ...</td>\n",
       "      <td>6621</td>\n",
       "      <td>6.743604</td>\n",
       "      <td>[(19.817899819000047, 120.09999798800004), (19...</td>\n",
       "    </tr>\n",
       "    <tr>\n",
       "      <th>3</th>\n",
       "      <td>TRENCH</td>\n",
       "      <td>BONIN TRENCH</td>\n",
       "      <td>9821</td>\n",
       "      <td>8.329381</td>\n",
       "      <td>[(26.175899215000072, 143.20620700100005), (26...</td>\n",
       "    </tr>\n",
       "    <tr>\n",
       "      <th>4</th>\n",
       "      <td>TRENCH</td>\n",
       "      <td>NEW GUINEA TRENCH</td>\n",
       "      <td>8001</td>\n",
       "      <td>11.998145</td>\n",
       "      <td>[(0.41880004000006466, 132.8273013480001), (0....</td>\n",
       "    </tr>\n",
       "  </tbody>\n",
       "</table>\n",
       "</div>"
      ],
      "text/plain": [
       "  HAZ_PLATES                                         HAZ_PLAT_1  HAZ_PLAT_2  \\\n",
       "0     TRENCH                              SERAM TROUGH (ACTIVE)        6722   \n",
       "1     TRENCH                                       WETAR THRUST        6722   \n",
       "2     TRENCH  TRENCH WEST OF LUZON (MANILA TRENCH) NORTHERN ...        6621   \n",
       "3     TRENCH                                       BONIN TRENCH        9821   \n",
       "4     TRENCH                                  NEW GUINEA TRENCH        8001   \n",
       "\n",
       "   Shape_Leng                                        coordinates  \n",
       "0    5.843467  [(-5.444200361999947, 133.6808931800001), (-5....  \n",
       "1    1.829013  [(-7.760600482999962, 125.47879802900002), (-7...  \n",
       "2    6.743604  [(19.817899819000047, 120.09999798800004), (19...  \n",
       "3    8.329381  [(26.175899215000072, 143.20620700100005), (26...  \n",
       "4   11.998145  [(0.41880004000006466, 132.8273013480001), (0....  "
      ]
     },
     "execution_count": 3,
     "metadata": {},
     "output_type": "execute_result"
    }
   ],
   "source": [
    "plate_boundaries = gpd.read_file(\"../input/geospatial-learn-course-data/Plate_Boundaries/Plate_Boundaries/Plate_Boundaries.shp\")\n",
    "plate_boundaries['coordinates'] = plate_boundaries.apply(lambda x: [(b,a) for (a,b) in list(x.geometry.coords)], axis='columns')\n",
    "plate_boundaries.drop('geometry', axis=1, inplace=True)\n",
    "\n",
    "plate_boundaries.head()"
   ]
  },
  {
   "cell_type": "markdown",
   "id": "872bd90e",
   "metadata": {
    "papermill": {
     "duration": 0.011995,
     "end_time": "2023-12-20T09:55:06.761712",
     "exception": false,
     "start_time": "2023-12-20T09:55:06.749717",
     "status": "completed"
    },
    "tags": []
   },
   "source": [
    "Next, run the code cell below without changes to load the historical earthquake data into a DataFrame `earthquakes`."
   ]
  },
  {
   "cell_type": "code",
   "execution_count": 4,
   "id": "7a03a633",
   "metadata": {
    "execution": {
     "iopub.execute_input": "2023-12-20T09:55:06.788747Z",
     "iopub.status.busy": "2023-12-20T09:55:06.787647Z",
     "iopub.status.idle": "2023-12-20T09:55:06.851994Z",
     "shell.execute_reply": "2023-12-20T09:55:06.851089Z"
    },
    "papermill": {
     "duration": 0.080331,
     "end_time": "2023-12-20T09:55:06.854363",
     "exception": false,
     "start_time": "2023-12-20T09:55:06.774032",
     "status": "completed"
    },
    "tags": []
   },
   "outputs": [
    {
     "data": {
      "text/html": [
       "<div>\n",
       "<style scoped>\n",
       "    .dataframe tbody tr th:only-of-type {\n",
       "        vertical-align: middle;\n",
       "    }\n",
       "\n",
       "    .dataframe tbody tr th {\n",
       "        vertical-align: top;\n",
       "    }\n",
       "\n",
       "    .dataframe thead th {\n",
       "        text-align: right;\n",
       "    }\n",
       "</style>\n",
       "<table border=\"1\" class=\"dataframe\">\n",
       "  <thead>\n",
       "    <tr style=\"text-align: right;\">\n",
       "      <th></th>\n",
       "      <th>DateTime</th>\n",
       "      <th>Latitude</th>\n",
       "      <th>Longitude</th>\n",
       "      <th>Depth</th>\n",
       "      <th>Magnitude</th>\n",
       "      <th>MagType</th>\n",
       "      <th>NbStations</th>\n",
       "      <th>Gap</th>\n",
       "      <th>Distance</th>\n",
       "      <th>RMS</th>\n",
       "      <th>Source</th>\n",
       "      <th>EventID</th>\n",
       "    </tr>\n",
       "  </thead>\n",
       "  <tbody>\n",
       "    <tr>\n",
       "      <th>0</th>\n",
       "      <td>1970-01-04 17:00:40.200</td>\n",
       "      <td>24.139</td>\n",
       "      <td>102.503</td>\n",
       "      <td>31.0</td>\n",
       "      <td>7.5</td>\n",
       "      <td>Ms</td>\n",
       "      <td>90.0</td>\n",
       "      <td>NaN</td>\n",
       "      <td>NaN</td>\n",
       "      <td>0.0</td>\n",
       "      <td>NEI</td>\n",
       "      <td>1.970010e+09</td>\n",
       "    </tr>\n",
       "    <tr>\n",
       "      <th>1</th>\n",
       "      <td>1970-01-06 05:35:51.800</td>\n",
       "      <td>-9.628</td>\n",
       "      <td>151.458</td>\n",
       "      <td>8.0</td>\n",
       "      <td>6.2</td>\n",
       "      <td>Ms</td>\n",
       "      <td>85.0</td>\n",
       "      <td>NaN</td>\n",
       "      <td>NaN</td>\n",
       "      <td>0.0</td>\n",
       "      <td>NEI</td>\n",
       "      <td>1.970011e+09</td>\n",
       "    </tr>\n",
       "    <tr>\n",
       "      <th>2</th>\n",
       "      <td>1970-01-08 17:12:39.100</td>\n",
       "      <td>-34.741</td>\n",
       "      <td>178.568</td>\n",
       "      <td>179.0</td>\n",
       "      <td>6.1</td>\n",
       "      <td>Mb</td>\n",
       "      <td>59.0</td>\n",
       "      <td>NaN</td>\n",
       "      <td>NaN</td>\n",
       "      <td>0.0</td>\n",
       "      <td>NEI</td>\n",
       "      <td>1.970011e+09</td>\n",
       "    </tr>\n",
       "    <tr>\n",
       "      <th>3</th>\n",
       "      <td>1970-01-10 12:07:08.600</td>\n",
       "      <td>6.825</td>\n",
       "      <td>126.737</td>\n",
       "      <td>73.0</td>\n",
       "      <td>6.1</td>\n",
       "      <td>Mb</td>\n",
       "      <td>91.0</td>\n",
       "      <td>NaN</td>\n",
       "      <td>NaN</td>\n",
       "      <td>0.0</td>\n",
       "      <td>NEI</td>\n",
       "      <td>1.970011e+09</td>\n",
       "    </tr>\n",
       "    <tr>\n",
       "      <th>4</th>\n",
       "      <td>1970-01-16 08:05:39.000</td>\n",
       "      <td>60.280</td>\n",
       "      <td>-152.660</td>\n",
       "      <td>85.0</td>\n",
       "      <td>6.0</td>\n",
       "      <td>ML</td>\n",
       "      <td>0.0</td>\n",
       "      <td>NaN</td>\n",
       "      <td>NaN</td>\n",
       "      <td>NaN</td>\n",
       "      <td>AK</td>\n",
       "      <td>NaN</td>\n",
       "    </tr>\n",
       "  </tbody>\n",
       "</table>\n",
       "</div>"
      ],
      "text/plain": [
       "                 DateTime  Latitude  Longitude  Depth  Magnitude MagType  \\\n",
       "0 1970-01-04 17:00:40.200    24.139    102.503   31.0        7.5      Ms   \n",
       "1 1970-01-06 05:35:51.800    -9.628    151.458    8.0        6.2      Ms   \n",
       "2 1970-01-08 17:12:39.100   -34.741    178.568  179.0        6.1      Mb   \n",
       "3 1970-01-10 12:07:08.600     6.825    126.737   73.0        6.1      Mb   \n",
       "4 1970-01-16 08:05:39.000    60.280   -152.660   85.0        6.0      ML   \n",
       "\n",
       "   NbStations  Gap  Distance  RMS Source       EventID  \n",
       "0        90.0  NaN       NaN  0.0    NEI  1.970010e+09  \n",
       "1        85.0  NaN       NaN  0.0    NEI  1.970011e+09  \n",
       "2        59.0  NaN       NaN  0.0    NEI  1.970011e+09  \n",
       "3        91.0  NaN       NaN  0.0    NEI  1.970011e+09  \n",
       "4         0.0  NaN       NaN  NaN     AK           NaN  "
      ]
     },
     "execution_count": 4,
     "metadata": {},
     "output_type": "execute_result"
    }
   ],
   "source": [
    "# Load the data and print the first 5 rows\n",
    "earthquakes = pd.read_csv(\"../input/geospatial-learn-course-data/earthquakes1970-2014.csv\", parse_dates=[\"DateTime\"])\n",
    "earthquakes.head()"
   ]
  },
  {
   "cell_type": "markdown",
   "id": "fdcb80d4",
   "metadata": {
    "papermill": {
     "duration": 0.012802,
     "end_time": "2023-12-20T09:55:06.879971",
     "exception": false,
     "start_time": "2023-12-20T09:55:06.867169",
     "status": "completed"
    },
    "tags": []
   },
   "source": [
    "The code cell below visualizes the plate boundaries on a map.  Use all of the earthquake data to add a heatmap to the same map, to determine whether earthquakes coincide with plate boundaries.  "
   ]
  },
  {
   "cell_type": "code",
   "execution_count": 5,
   "id": "b10dace1",
   "metadata": {
    "execution": {
     "iopub.execute_input": "2023-12-20T09:55:06.908486Z",
     "iopub.status.busy": "2023-12-20T09:55:06.907743Z",
     "iopub.status.idle": "2023-12-20T09:55:07.556168Z",
     "shell.execute_reply": "2023-12-20T09:55:07.555255Z"
    },
    "papermill": {
     "duration": 0.665588,
     "end_time": "2023-12-20T09:55:07.558580",
     "exception": false,
     "start_time": "2023-12-20T09:55:06.892992",
     "status": "completed"
    },
    "tags": []
   },
   "outputs": [
    {
     "data": {
      "application/javascript": [
       "parent.postMessage({\"jupyterEvent\": \"custom.exercise_interaction\", \"data\": {\"interactionType\": 2, \"questionType\": 2, \"questionId\": \"1.1_Q1P\", \"learnToolsVersion\": \"0.3.4\", \"valueTowardsCompletion\": 0.0, \"failureMessage\": \"\", \"exceptionClass\": \"\", \"trace\": \"\", \"outcomeType\": 4}}, \"*\")"
      ],
      "text/plain": [
       "<IPython.core.display.Javascript object>"
      ]
     },
     "metadata": {},
     "output_type": "display_data"
    },
    {
     "data": {
      "text/markdown": [
       "<span style=\"color:#3366cc\">Hint:</span> Use `folium.plugins.HeatMap()` to add a heatmap. Set `data` to a DataFrame containing the latitude and longitude locations.  We got fairly good results by setting `radius=15`. Don't forget to add it to the map with the `add_to()` method!"
      ],
      "text/plain": [
       "Hint: Use `folium.plugins.HeatMap()` to add a heatmap. Set `data` to a DataFrame containing the latitude and longitude locations.  We got fairly good results by setting `radius=15`. Don't forget to add it to the map with the `add_to()` method!"
      ]
     },
     "metadata": {},
     "output_type": "display_data"
    },
    {
     "data": {
      "text/html": [
       "\n",
       "        <iframe\n",
       "            width=\"100%\"\n",
       "            height=\"500px\"\n",
       "            src=\"q_1.html\"\n",
       "            frameborder=\"0\"\n",
       "            allowfullscreen\n",
       "            \n",
       "        ></iframe>\n",
       "        "
      ],
      "text/plain": [
       "<IPython.lib.display.IFrame at 0x7de06a65d6f0>"
      ]
     },
     "execution_count": 5,
     "metadata": {},
     "output_type": "execute_result"
    }
   ],
   "source": [
    "# Create a base map with plate boundaries\n",
    "m_1 = folium.Map(location=[35,136], tiles='cartodbpositron', zoom_start=5)\n",
    "for i in range(len(plate_boundaries)):\n",
    "    folium.PolyLine(locations=plate_boundaries.coordinates.iloc[i], weight=2, color='black').add_to(m_1)\n",
    "\n",
    "# Your code here: Add a heatmap to the map\n",
    "HeatMap(data=earthquakes[['Latitude', 'Longitude']], radius=15).add_to(m_1)\n",
    "# Uncomment to see a hint\n",
    "q_1.a.hint()\n",
    "\n",
    "# Show the map\n",
    "embed_map(m_1, 'q_1.html')"
   ]
  },
  {
   "cell_type": "code",
   "execution_count": 6,
   "id": "d7351490",
   "metadata": {
    "execution": {
     "iopub.execute_input": "2023-12-20T09:55:07.587723Z",
     "iopub.status.busy": "2023-12-20T09:55:07.586870Z",
     "iopub.status.idle": "2023-12-20T09:55:07.599773Z",
     "shell.execute_reply": "2023-12-20T09:55:07.598833Z"
    },
    "papermill": {
     "duration": 0.02967,
     "end_time": "2023-12-20T09:55:07.601918",
     "exception": false,
     "start_time": "2023-12-20T09:55:07.572248",
     "status": "completed"
    },
    "tags": []
   },
   "outputs": [
    {
     "data": {
      "application/javascript": [
       "parent.postMessage({\"jupyterEvent\": \"custom.exercise_interaction\", \"data\": {\"outcomeType\": 1, \"valueTowardsCompletion\": 1.0, \"interactionType\": 1, \"questionType\": 2, \"questionId\": \"1.1_Q1P\", \"learnToolsVersion\": \"0.3.4\", \"failureMessage\": \"\", \"exceptionClass\": \"\", \"trace\": \"\"}}, \"*\")"
      ],
      "text/plain": [
       "<IPython.core.display.Javascript object>"
      ]
     },
     "metadata": {},
     "output_type": "display_data"
    },
    {
     "data": {
      "text/markdown": [
       "<span style=\"color:#33cc33\">Thank you for creating a map!</span>"
      ],
      "text/plain": [
       "Thank you for creating a map!"
      ]
     },
     "metadata": {},
     "output_type": "display_data"
    },
    {
     "data": {
      "application/javascript": [
       "parent.postMessage({\"jupyterEvent\": \"custom.exercise_interaction\", \"data\": {\"interactionType\": 3, \"questionType\": 2, \"questionId\": \"1.1_Q1P\", \"learnToolsVersion\": \"0.3.4\", \"valueTowardsCompletion\": 0.0, \"failureMessage\": \"\", \"exceptionClass\": \"\", \"trace\": \"\", \"outcomeType\": 4}}, \"*\")"
      ],
      "text/plain": [
       "<IPython.core.display.Javascript object>"
      ]
     },
     "metadata": {},
     "output_type": "display_data"
    },
    {
     "data": {
      "text/markdown": [
       "<span style=\"color:#33cc99\">Solution:</span> \n",
       "```python\n",
       "# Add a heatmap to the map\n",
       "HeatMap(data=earthquakes[['Latitude', 'Longitude']], radius=15).add_to(m_1)\n",
       "\n",
       "```"
      ],
      "text/plain": [
       "Solution: \n",
       "```python\n",
       "# Add a heatmap to the map\n",
       "HeatMap(data=earthquakes[['Latitude', 'Longitude']], radius=15).add_to(m_1)\n",
       "\n",
       "```"
      ]
     },
     "metadata": {},
     "output_type": "display_data"
    }
   ],
   "source": [
    "# Get credit for your work after you have created a map\n",
    "q_1.a.check()\n",
    "\n",
    "# Uncomment to see our solution (your code may look different!)\n",
    "q_1.a.solution()"
   ]
  },
  {
   "cell_type": "markdown",
   "id": "923d0b0f",
   "metadata": {
    "papermill": {
     "duration": 0.013551,
     "end_time": "2023-12-20T09:55:07.629304",
     "exception": false,
     "start_time": "2023-12-20T09:55:07.615753",
     "status": "completed"
    },
    "tags": []
   },
   "source": [
    "So, given the map above, do earthquakes coincide with plate boundaries?"
   ]
  },
  {
   "cell_type": "code",
   "execution_count": 7,
   "id": "77a44e96",
   "metadata": {
    "execution": {
     "iopub.execute_input": "2023-12-20T09:55:07.658736Z",
     "iopub.status.busy": "2023-12-20T09:55:07.658269Z",
     "iopub.status.idle": "2023-12-20T09:55:07.667640Z",
     "shell.execute_reply": "2023-12-20T09:55:07.666513Z"
    },
    "papermill": {
     "duration": 0.027222,
     "end_time": "2023-12-20T09:55:07.670319",
     "exception": false,
     "start_time": "2023-12-20T09:55:07.643097",
     "status": "completed"
    },
    "tags": []
   },
   "outputs": [
    {
     "data": {
      "application/javascript": [
       "parent.postMessage({\"jupyterEvent\": \"custom.exercise_interaction\", \"data\": {\"interactionType\": 3, \"questionType\": 4, \"questionId\": \"1.2_Q1T\", \"learnToolsVersion\": \"0.3.4\", \"valueTowardsCompletion\": 0.0, \"failureMessage\": \"\", \"exceptionClass\": \"\", \"trace\": \"\", \"outcomeType\": 4}}, \"*\")"
      ],
      "text/plain": [
       "<IPython.core.display.Javascript object>"
      ]
     },
     "metadata": {},
     "output_type": "display_data"
    },
    {
     "data": {
      "text/markdown": [
       "<span style=\"color:#33cc99\">Solution:</span> Yes, earthquakes coincide with plate boundaries."
      ],
      "text/plain": [
       "Solution: Yes, earthquakes coincide with plate boundaries."
      ]
     },
     "metadata": {},
     "output_type": "display_data"
    }
   ],
   "source": [
    "# View the solution (Run this code cell to receive credit!)\n",
    "q_1.b.solution()"
   ]
  },
  {
   "cell_type": "markdown",
   "id": "3db0f61c",
   "metadata": {
    "papermill": {
     "duration": 0.013672,
     "end_time": "2023-12-20T09:55:07.698017",
     "exception": false,
     "start_time": "2023-12-20T09:55:07.684345",
     "status": "completed"
    },
    "tags": []
   },
   "source": [
    "### 2) Is there a relationship between earthquake depth and proximity to a plate boundary in Japan?\n",
    "\n",
    "You recently read that the depth of earthquakes tells us [important information](https://www.usgs.gov/faqs/what-depth-do-earthquakes-occur-what-significance-depth?qt-news_science_products=0#qt-news_science_products) about the structure of the earth.  You're interested to see if there are any intereresting global patterns, and you'd also like to understand how depth varies in Japan.\n",
    "\n"
   ]
  },
  {
   "cell_type": "code",
   "execution_count": 8,
   "id": "a65072ec",
   "metadata": {
    "execution": {
     "iopub.execute_input": "2023-12-20T09:55:07.728384Z",
     "iopub.status.busy": "2023-12-20T09:55:07.727524Z",
     "iopub.status.idle": "2023-12-20T09:55:14.479770Z",
     "shell.execute_reply": "2023-12-20T09:55:14.478626Z"
    },
    "papermill": {
     "duration": 6.770387,
     "end_time": "2023-12-20T09:55:14.482383",
     "exception": false,
     "start_time": "2023-12-20T09:55:07.711996",
     "status": "completed"
    },
    "tags": []
   },
   "outputs": [
    {
     "data": {
      "application/javascript": [
       "parent.postMessage({\"jupyterEvent\": \"custom.exercise_interaction\", \"data\": {\"interactionType\": 2, \"questionType\": 2, \"questionId\": \"2.1_Q2P\", \"learnToolsVersion\": \"0.3.4\", \"valueTowardsCompletion\": 0.0, \"failureMessage\": \"\", \"exceptionClass\": \"\", \"trace\": \"\", \"outcomeType\": 4}}, \"*\")"
      ],
      "text/plain": [
       "<IPython.core.display.Javascript object>"
      ]
     },
     "metadata": {},
     "output_type": "display_data"
    },
    {
     "data": {
      "text/markdown": [
       "<span style=\"color:#3366cc\">Hint:</span> Use `folium.Circle()` to create a bubble map. We visualized the relationship between location and depth by assigning the color of each circle based on the depth of the corresponding earthquake."
      ],
      "text/plain": [
       "Hint: Use `folium.Circle()` to create a bubble map. We visualized the relationship between location and depth by assigning the color of each circle based on the depth of the corresponding earthquake."
      ]
     },
     "metadata": {},
     "output_type": "display_data"
    },
    {
     "data": {
      "text/html": [
       "\n",
       "        <iframe\n",
       "            width=\"100%\"\n",
       "            height=\"500px\"\n",
       "            src=\"q_2.html\"\n",
       "            frameborder=\"0\"\n",
       "            allowfullscreen\n",
       "            \n",
       "        ></iframe>\n",
       "        "
      ],
      "text/plain": [
       "<IPython.lib.display.IFrame at 0x7de06939f4c0>"
      ]
     },
     "execution_count": 8,
     "metadata": {},
     "output_type": "execute_result"
    }
   ],
   "source": [
    "# Create a base map with plate boundaries\n",
    "m_2 = folium.Map(location=[35,136], tiles='cartodbpositron', zoom_start=5)\n",
    "for i in range(len(plate_boundaries)):\n",
    "    folium.PolyLine(locations=plate_boundaries.coordinates.iloc[i], weight=2, color='black').add_to(m_2)\n",
    "    \n",
    "# Your code here: Add a map to visualize earthquake depth\n",
    "#radius of circle according to depth\n",
    "for i in range(0,len(earthquakes)):\n",
    "    folium.Circle(\n",
    "        location=[earthquakes.iloc[i]['Latitude'], earthquakes.iloc[i]['Longitude']],\n",
    "        radius=100*earthquakes.iloc[i]['Depth'],\n",
    "        color=\"forestgreen\").add_to(m_2)\n",
    "\n",
    "# Uncomment to see a hint\n",
    "q_2.a.hint()\n",
    "\n",
    "# View the map\n",
    "embed_map(m_2, 'q_2.html')"
   ]
  },
  {
   "cell_type": "code",
   "execution_count": 9,
   "id": "f992e7ef",
   "metadata": {
    "execution": {
     "iopub.execute_input": "2023-12-20T09:55:14.513671Z",
     "iopub.status.busy": "2023-12-20T09:55:14.513211Z",
     "iopub.status.idle": "2023-12-20T09:55:14.527677Z",
     "shell.execute_reply": "2023-12-20T09:55:14.526516Z"
    },
    "papermill": {
     "duration": 0.033255,
     "end_time": "2023-12-20T09:55:14.530207",
     "exception": false,
     "start_time": "2023-12-20T09:55:14.496952",
     "status": "completed"
    },
    "tags": []
   },
   "outputs": [
    {
     "data": {
      "application/javascript": [
       "parent.postMessage({\"jupyterEvent\": \"custom.exercise_interaction\", \"data\": {\"outcomeType\": 1, \"valueTowardsCompletion\": 1.0, \"interactionType\": 1, \"questionType\": 2, \"questionId\": \"2.1_Q2P\", \"learnToolsVersion\": \"0.3.4\", \"failureMessage\": \"\", \"exceptionClass\": \"\", \"trace\": \"\"}}, \"*\")"
      ],
      "text/plain": [
       "<IPython.core.display.Javascript object>"
      ]
     },
     "metadata": {},
     "output_type": "display_data"
    },
    {
     "data": {
      "text/markdown": [
       "<span style=\"color:#33cc33\">Thank you for creating a map!</span>"
      ],
      "text/plain": [
       "Thank you for creating a map!"
      ]
     },
     "metadata": {},
     "output_type": "display_data"
    },
    {
     "data": {
      "application/javascript": [
       "parent.postMessage({\"jupyterEvent\": \"custom.exercise_interaction\", \"data\": {\"interactionType\": 3, \"questionType\": 2, \"questionId\": \"2.1_Q2P\", \"learnToolsVersion\": \"0.3.4\", \"valueTowardsCompletion\": 0.0, \"failureMessage\": \"\", \"exceptionClass\": \"\", \"trace\": \"\", \"outcomeType\": 4}}, \"*\")"
      ],
      "text/plain": [
       "<IPython.core.display.Javascript object>"
      ]
     },
     "metadata": {},
     "output_type": "display_data"
    },
    {
     "data": {
      "text/markdown": [
       "<span style=\"color:#33cc99\">Solution:</span> \n",
       "```python\n",
       "# Custom function to assign a color to each circle\n",
       "def color_producer(val):\n",
       "    if val < 50:\n",
       "        return 'forestgreen'\n",
       "    elif val < 100:\n",
       "        return 'darkorange'\n",
       "    else:\n",
       "        return 'darkred'\n",
       "\n",
       "# Add a map to visualize earthquake depth\n",
       "for i in range(0,len(earthquakes)):\n",
       "    folium.Circle(\n",
       "        location=[earthquakes.iloc[i]['Latitude'], earthquakes.iloc[i]['Longitude']],\n",
       "        radius=2000,\n",
       "        color=color_producer(earthquakes.iloc[i]['Depth'])).add_to(m_2)\n",
       "\n",
       "```"
      ],
      "text/plain": [
       "Solution: \n",
       "```python\n",
       "# Custom function to assign a color to each circle\n",
       "def color_producer(val):\n",
       "    if val < 50:\n",
       "        return 'forestgreen'\n",
       "    elif val < 100:\n",
       "        return 'darkorange'\n",
       "    else:\n",
       "        return 'darkred'\n",
       "\n",
       "# Add a map to visualize earthquake depth\n",
       "for i in range(0,len(earthquakes)):\n",
       "    folium.Circle(\n",
       "        location=[earthquakes.iloc[i]['Latitude'], earthquakes.iloc[i]['Longitude']],\n",
       "        radius=2000,\n",
       "        color=color_producer(earthquakes.iloc[i]['Depth'])).add_to(m_2)\n",
       "\n",
       "```"
      ]
     },
     "metadata": {},
     "output_type": "display_data"
    }
   ],
   "source": [
    "# Get credit for your work after you have created a map\n",
    "q_2.a.check()\n",
    "\n",
    "# Uncomment to see our solution (your code may look different!)\n",
    "q_2.a.solution()"
   ]
  },
  {
   "cell_type": "code",
   "execution_count": 10,
   "id": "734fba23",
   "metadata": {
    "execution": {
     "iopub.execute_input": "2023-12-20T09:55:14.563279Z",
     "iopub.status.busy": "2023-12-20T09:55:14.562606Z",
     "iopub.status.idle": "2023-12-20T09:55:21.373777Z",
     "shell.execute_reply": "2023-12-20T09:55:21.372622Z"
    },
    "papermill": {
     "duration": 6.830942,
     "end_time": "2023-12-20T09:55:21.376420",
     "exception": false,
     "start_time": "2023-12-20T09:55:14.545478",
     "status": "completed"
    },
    "tags": []
   },
   "outputs": [
    {
     "data": {
      "application/javascript": [
       "parent.postMessage({\"jupyterEvent\": \"custom.exercise_interaction\", \"data\": {\"interactionType\": 2, \"questionType\": 2, \"questionId\": \"2.1_Q2P\", \"learnToolsVersion\": \"0.3.4\", \"valueTowardsCompletion\": 0.0, \"failureMessage\": \"\", \"exceptionClass\": \"\", \"trace\": \"\", \"outcomeType\": 4}}, \"*\")"
      ],
      "text/plain": [
       "<IPython.core.display.Javascript object>"
      ]
     },
     "metadata": {},
     "output_type": "display_data"
    },
    {
     "data": {
      "text/markdown": [
       "<span style=\"color:#3366cc\">Hint:</span> Use `folium.Circle()` to create a bubble map. We visualized the relationship between location and depth by assigning the color of each circle based on the depth of the corresponding earthquake."
      ],
      "text/plain": [
       "Hint: Use `folium.Circle()` to create a bubble map. We visualized the relationship between location and depth by assigning the color of each circle based on the depth of the corresponding earthquake."
      ]
     },
     "metadata": {},
     "output_type": "display_data"
    },
    {
     "data": {
      "text/html": [
       "\n",
       "        <iframe\n",
       "            width=\"100%\"\n",
       "            height=\"500px\"\n",
       "            src=\"q_2.html\"\n",
       "            frameborder=\"0\"\n",
       "            allowfullscreen\n",
       "            \n",
       "        ></iframe>\n",
       "        "
      ],
      "text/plain": [
       "<IPython.lib.display.IFrame at 0x7de06a33fa90>"
      ]
     },
     "execution_count": 10,
     "metadata": {},
     "output_type": "execute_result"
    }
   ],
   "source": [
    "# Create a base map with plate boundaries\n",
    "m_2 = folium.Map(location=[35,136], tiles='cartodbpositron', zoom_start=5)\n",
    "for i in range(len(plate_boundaries)):\n",
    "    folium.PolyLine(locations=plate_boundaries.coordinates.iloc[i], weight=2, color='black').add_to(m_2)\n",
    "    \n",
    "# Your code here: Add a map to visualize earthquake depth\n",
    "# Custom function to assign a color to each circle\n",
    "def color_producer(val):\n",
    "    if val < 50:\n",
    "        return 'forestgreen'\n",
    "    elif val < 100:\n",
    "        return 'darkorange'\n",
    "    else:\n",
    "        return 'darkred'\n",
    "\n",
    "# Add a map to visualize earthquake depth\n",
    "for i in range(0,len(earthquakes)):\n",
    "    folium.Circle(\n",
    "        location=[earthquakes.iloc[i]['Latitude'], earthquakes.iloc[i]['Longitude']],\n",
    "        radius=2000,\n",
    "        color=color_producer(earthquakes.iloc[i]['Depth'])).add_to(m_2)\n",
    "\n",
    "# Uncomment to see a hint\n",
    "q_2.a.hint()\n",
    "\n",
    "# View the map\n",
    "embed_map(m_2, 'q_2.html')"
   ]
  },
  {
   "cell_type": "markdown",
   "id": "05d0e064",
   "metadata": {
    "papermill": {
     "duration": 0.015567,
     "end_time": "2023-12-20T09:55:21.407911",
     "exception": false,
     "start_time": "2023-12-20T09:55:21.392344",
     "status": "completed"
    },
    "tags": []
   },
   "source": [
    "Can you detect a relationship between proximity to a plate boundary and earthquake depth?  Does this pattern hold globally?  In Japan?"
   ]
  },
  {
   "cell_type": "markdown",
   "id": "e6683762",
   "metadata": {
    "papermill": {
     "duration": 0.07957,
     "end_time": "2023-12-20T09:55:21.503518",
     "exception": false,
     "start_time": "2023-12-20T09:55:21.423948",
     "status": "completed"
    },
    "tags": []
   },
   "source": [
    "My answer: No"
   ]
  },
  {
   "cell_type": "code",
   "execution_count": 11,
   "id": "f64d1896",
   "metadata": {
    "execution": {
     "iopub.execute_input": "2023-12-20T09:55:21.537395Z",
     "iopub.status.busy": "2023-12-20T09:55:21.537016Z",
     "iopub.status.idle": "2023-12-20T09:55:21.545709Z",
     "shell.execute_reply": "2023-12-20T09:55:21.544566Z"
    },
    "papermill": {
     "duration": 0.028801,
     "end_time": "2023-12-20T09:55:21.548294",
     "exception": false,
     "start_time": "2023-12-20T09:55:21.519493",
     "status": "completed"
    },
    "tags": []
   },
   "outputs": [
    {
     "data": {
      "application/javascript": [
       "parent.postMessage({\"jupyterEvent\": \"custom.exercise_interaction\", \"data\": {\"interactionType\": 3, \"questionType\": 4, \"questionId\": \"2.2_Q2T\", \"learnToolsVersion\": \"0.3.4\", \"valueTowardsCompletion\": 0.0, \"failureMessage\": \"\", \"exceptionClass\": \"\", \"trace\": \"\", \"outcomeType\": 4}}, \"*\")"
      ],
      "text/plain": [
       "<IPython.core.display.Javascript object>"
      ]
     },
     "metadata": {},
     "output_type": "display_data"
    },
    {
     "data": {
      "text/markdown": [
       "<span style=\"color:#33cc99\">Solution:</span> In the northern half of Japan, it does appear that earthquakes closer to plate boundaries tend to be shallower (and earthquakes farther from plate boundaries are deeper).  This pattern is repeated in other locations, such as the western coast of South America.  But, it does not hold everywhere (for instance, in China, Mongolia, and Russia)."
      ],
      "text/plain": [
       "Solution: In the northern half of Japan, it does appear that earthquakes closer to plate boundaries tend to be shallower (and earthquakes farther from plate boundaries are deeper).  This pattern is repeated in other locations, such as the western coast of South America.  But, it does not hold everywhere (for instance, in China, Mongolia, and Russia)."
      ]
     },
     "metadata": {},
     "output_type": "display_data"
    }
   ],
   "source": [
    "# View the solution (Run this code cell to receive credit!)\n",
    "q_2.b.solution()"
   ]
  },
  {
   "cell_type": "markdown",
   "id": "8ecb6136",
   "metadata": {
    "papermill": {
     "duration": 0.016299,
     "end_time": "2023-12-20T09:55:21.581199",
     "exception": false,
     "start_time": "2023-12-20T09:55:21.564900",
     "status": "completed"
    },
    "tags": []
   },
   "source": [
    "### 3) Which prefectures have high population density?\n",
    "\n",
    "Run the next code cell (without changes) to create a GeoDataFrame `prefectures` that contains the geographical boundaries of Japanese prefectures."
   ]
  },
  {
   "cell_type": "code",
   "execution_count": 12,
   "id": "2260b475",
   "metadata": {
    "execution": {
     "iopub.execute_input": "2023-12-20T09:55:21.616129Z",
     "iopub.status.busy": "2023-12-20T09:55:21.615742Z",
     "iopub.status.idle": "2023-12-20T09:55:22.512437Z",
     "shell.execute_reply": "2023-12-20T09:55:22.511393Z"
    },
    "papermill": {
     "duration": 0.917435,
     "end_time": "2023-12-20T09:55:22.515129",
     "exception": false,
     "start_time": "2023-12-20T09:55:21.597694",
     "status": "completed"
    },
    "tags": []
   },
   "outputs": [
    {
     "data": {
      "text/html": [
       "<div>\n",
       "<style scoped>\n",
       "    .dataframe tbody tr th:only-of-type {\n",
       "        vertical-align: middle;\n",
       "    }\n",
       "\n",
       "    .dataframe tbody tr th {\n",
       "        vertical-align: top;\n",
       "    }\n",
       "\n",
       "    .dataframe thead th {\n",
       "        text-align: right;\n",
       "    }\n",
       "</style>\n",
       "<table border=\"1\" class=\"dataframe\">\n",
       "  <thead>\n",
       "    <tr style=\"text-align: right;\">\n",
       "      <th></th>\n",
       "      <th>geometry</th>\n",
       "    </tr>\n",
       "    <tr>\n",
       "      <th>prefecture</th>\n",
       "      <th></th>\n",
       "    </tr>\n",
       "  </thead>\n",
       "  <tbody>\n",
       "    <tr>\n",
       "      <th>Aichi</th>\n",
       "      <td>MULTIPOLYGON (((137.09523 34.65330, 137.09546 ...</td>\n",
       "    </tr>\n",
       "    <tr>\n",
       "      <th>Akita</th>\n",
       "      <td>MULTIPOLYGON (((139.55725 39.20330, 139.55765 ...</td>\n",
       "    </tr>\n",
       "    <tr>\n",
       "      <th>Aomori</th>\n",
       "      <td>MULTIPOLYGON (((141.39860 40.92472, 141.39806 ...</td>\n",
       "    </tr>\n",
       "    <tr>\n",
       "      <th>Chiba</th>\n",
       "      <td>MULTIPOLYGON (((139.82488 34.98967, 139.82434 ...</td>\n",
       "    </tr>\n",
       "    <tr>\n",
       "      <th>Ehime</th>\n",
       "      <td>MULTIPOLYGON (((132.55859 32.91224, 132.55904 ...</td>\n",
       "    </tr>\n",
       "  </tbody>\n",
       "</table>\n",
       "</div>"
      ],
      "text/plain": [
       "                                                     geometry\n",
       "prefecture                                                   \n",
       "Aichi       MULTIPOLYGON (((137.09523 34.65330, 137.09546 ...\n",
       "Akita       MULTIPOLYGON (((139.55725 39.20330, 139.55765 ...\n",
       "Aomori      MULTIPOLYGON (((141.39860 40.92472, 141.39806 ...\n",
       "Chiba       MULTIPOLYGON (((139.82488 34.98967, 139.82434 ...\n",
       "Ehime       MULTIPOLYGON (((132.55859 32.91224, 132.55904 ..."
      ]
     },
     "execution_count": 12,
     "metadata": {},
     "output_type": "execute_result"
    }
   ],
   "source": [
    "# GeoDataFrame with prefecture boundaries\n",
    "prefectures = gpd.read_file(\"../input/geospatial-learn-course-data/japan-prefecture-boundaries/japan-prefecture-boundaries/japan-prefecture-boundaries.shp\")\n",
    "prefectures.set_index('prefecture', inplace=True)\n",
    "prefectures.head()"
   ]
  },
  {
   "cell_type": "markdown",
   "id": "3ab74fa2",
   "metadata": {
    "papermill": {
     "duration": 0.016128,
     "end_time": "2023-12-20T09:55:22.547872",
     "exception": false,
     "start_time": "2023-12-20T09:55:22.531744",
     "status": "completed"
    },
    "tags": []
   },
   "source": [
    "The next code cell creates a DataFrame `stats` containing the population, area (in square kilometers), and population density (per square kilometer) for each Japanese prefecture.  Run the code cell without changes."
   ]
  },
  {
   "cell_type": "code",
   "execution_count": 13,
   "id": "600d8d85",
   "metadata": {
    "execution": {
     "iopub.execute_input": "2023-12-20T09:55:22.584147Z",
     "iopub.status.busy": "2023-12-20T09:55:22.583152Z",
     "iopub.status.idle": "2023-12-20T09:55:23.939998Z",
     "shell.execute_reply": "2023-12-20T09:55:23.938571Z"
    },
    "papermill": {
     "duration": 1.378616,
     "end_time": "2023-12-20T09:55:23.943068",
     "exception": false,
     "start_time": "2023-12-20T09:55:22.564452",
     "status": "completed"
    },
    "tags": []
   },
   "outputs": [
    {
     "data": {
      "text/html": [
       "<div>\n",
       "<style scoped>\n",
       "    .dataframe tbody tr th:only-of-type {\n",
       "        vertical-align: middle;\n",
       "    }\n",
       "\n",
       "    .dataframe tbody tr th {\n",
       "        vertical-align: top;\n",
       "    }\n",
       "\n",
       "    .dataframe thead th {\n",
       "        text-align: right;\n",
       "    }\n",
       "</style>\n",
       "<table border=\"1\" class=\"dataframe\">\n",
       "  <thead>\n",
       "    <tr style=\"text-align: right;\">\n",
       "      <th></th>\n",
       "      <th>population</th>\n",
       "      <th>area_sqkm</th>\n",
       "      <th>density</th>\n",
       "    </tr>\n",
       "    <tr>\n",
       "      <th>prefecture</th>\n",
       "      <th></th>\n",
       "      <th></th>\n",
       "      <th></th>\n",
       "    </tr>\n",
       "  </thead>\n",
       "  <tbody>\n",
       "    <tr>\n",
       "      <th>Tokyo</th>\n",
       "      <td>12868000</td>\n",
       "      <td>1800.614782</td>\n",
       "      <td>7146.448049</td>\n",
       "    </tr>\n",
       "    <tr>\n",
       "      <th>Kanagawa</th>\n",
       "      <td>8943000</td>\n",
       "      <td>2383.038975</td>\n",
       "      <td>3752.771186</td>\n",
       "    </tr>\n",
       "    <tr>\n",
       "      <th>Osaka</th>\n",
       "      <td>8801000</td>\n",
       "      <td>1923.151529</td>\n",
       "      <td>4576.342460</td>\n",
       "    </tr>\n",
       "    <tr>\n",
       "      <th>Aichi</th>\n",
       "      <td>7418000</td>\n",
       "      <td>5164.400005</td>\n",
       "      <td>1436.372085</td>\n",
       "    </tr>\n",
       "    <tr>\n",
       "      <th>Saitama</th>\n",
       "      <td>7130000</td>\n",
       "      <td>3794.036890</td>\n",
       "      <td>1879.264806</td>\n",
       "    </tr>\n",
       "  </tbody>\n",
       "</table>\n",
       "</div>"
      ],
      "text/plain": [
       "            population    area_sqkm      density\n",
       "prefecture                                      \n",
       "Tokyo         12868000  1800.614782  7146.448049\n",
       "Kanagawa       8943000  2383.038975  3752.771186\n",
       "Osaka          8801000  1923.151529  4576.342460\n",
       "Aichi          7418000  5164.400005  1436.372085\n",
       "Saitama        7130000  3794.036890  1879.264806"
      ]
     },
     "execution_count": 13,
     "metadata": {},
     "output_type": "execute_result"
    }
   ],
   "source": [
    "# DataFrame containing population of each prefecture\n",
    "population = pd.read_csv(\"../input/geospatial-learn-course-data/japan-prefecture-population.csv\")\n",
    "population.set_index('prefecture', inplace=True)\n",
    "\n",
    "# Calculate area (in square kilometers) of each prefecture\n",
    "area_sqkm = pd.Series(prefectures.geometry.to_crs(epsg=32654).area / 10**6, name='area_sqkm')\n",
    "stats = population.join(area_sqkm)\n",
    "\n",
    "# Add density (per square kilometer) of each prefecture\n",
    "stats['density'] = stats[\"population\"] / stats[\"area_sqkm\"]\n",
    "stats.head()"
   ]
  },
  {
   "cell_type": "markdown",
   "id": "0bb10d1d",
   "metadata": {
    "papermill": {
     "duration": 0.016982,
     "end_time": "2023-12-20T09:55:23.977912",
     "exception": false,
     "start_time": "2023-12-20T09:55:23.960930",
     "status": "completed"
    },
    "tags": []
   },
   "source": [
    "Use the next code cell to create a choropleth map to visualize population density."
   ]
  },
  {
   "cell_type": "code",
   "execution_count": 14,
   "id": "f00d04dc",
   "metadata": {
    "execution": {
     "iopub.execute_input": "2023-12-20T09:55:24.014042Z",
     "iopub.status.busy": "2023-12-20T09:55:24.013112Z",
     "iopub.status.idle": "2023-12-20T09:55:35.520427Z",
     "shell.execute_reply": "2023-12-20T09:55:35.519327Z"
    },
    "papermill": {
     "duration": 11.528471,
     "end_time": "2023-12-20T09:55:35.523104",
     "exception": false,
     "start_time": "2023-12-20T09:55:23.994633",
     "status": "completed"
    },
    "tags": []
   },
   "outputs": [
    {
     "data": {
      "application/javascript": [
       "parent.postMessage({\"jupyterEvent\": \"custom.exercise_interaction\", \"data\": {\"interactionType\": 2, \"questionType\": 2, \"questionId\": \"3.1_Q3P\", \"learnToolsVersion\": \"0.3.4\", \"valueTowardsCompletion\": 0.0, \"failureMessage\": \"\", \"exceptionClass\": \"\", \"trace\": \"\", \"outcomeType\": 4}}, \"*\")"
      ],
      "text/plain": [
       "<IPython.core.display.Javascript object>"
      ]
     },
     "metadata": {},
     "output_type": "display_data"
    },
    {
     "data": {
      "text/markdown": [
       "<span style=\"color:#3366cc\">Hint:</span> Use `folium.Choropleth()` to create a choropleth map.  Remember to use the `__geo_interface__` method to construct the value for `geo_data`. Set `data` to a Pandas Series containing the population density data, and indexed by prefecture."
      ],
      "text/plain": [
       "Hint: Use `folium.Choropleth()` to create a choropleth map.  Remember to use the `__geo_interface__` method to construct the value for `geo_data`. Set `data` to a Pandas Series containing the population density data, and indexed by prefecture."
      ]
     },
     "metadata": {},
     "output_type": "display_data"
    },
    {
     "data": {
      "text/html": [
       "\n",
       "        <iframe\n",
       "            width=\"100%\"\n",
       "            height=\"500px\"\n",
       "            src=\"q_3.html\"\n",
       "            frameborder=\"0\"\n",
       "            allowfullscreen\n",
       "            \n",
       "        ></iframe>\n",
       "        "
      ],
      "text/plain": [
       "<IPython.lib.display.IFrame at 0x7de064dcaf20>"
      ]
     },
     "execution_count": 14,
     "metadata": {},
     "output_type": "execute_result"
    }
   ],
   "source": [
    "# Create a base map\n",
    "m_3 = folium.Map(location=[35,136], tiles='cartodbpositron', zoom_start=5)\n",
    "\n",
    "# Your code here: create a choropleth map to visualize population density\n",
    "Choropleth(geo_data=prefectures.__geo_interface__, \n",
    "           data=stats.density, \n",
    "           key_on=\"feature.id\", \n",
    "           fill_color='YlGnBu', \n",
    "           legend_name='Population density'\n",
    "          ).add_to(m_3)\n",
    "\n",
    "# Uncomment to see a hint\n",
    "q_3.a.hint()\n",
    "\n",
    "# View the map\n",
    "embed_map(m_3, 'q_3.html')"
   ]
  },
  {
   "cell_type": "code",
   "execution_count": 15,
   "id": "903a4205",
   "metadata": {
    "execution": {
     "iopub.execute_input": "2023-12-20T09:55:35.560726Z",
     "iopub.status.busy": "2023-12-20T09:55:35.560273Z",
     "iopub.status.idle": "2023-12-20T09:55:35.573570Z",
     "shell.execute_reply": "2023-12-20T09:55:35.572736Z"
    },
    "papermill": {
     "duration": 0.034989,
     "end_time": "2023-12-20T09:55:35.575768",
     "exception": false,
     "start_time": "2023-12-20T09:55:35.540779",
     "status": "completed"
    },
    "tags": []
   },
   "outputs": [
    {
     "data": {
      "application/javascript": [
       "parent.postMessage({\"jupyterEvent\": \"custom.exercise_interaction\", \"data\": {\"outcomeType\": 1, \"valueTowardsCompletion\": 1.0, \"interactionType\": 1, \"questionType\": 2, \"questionId\": \"3.1_Q3P\", \"learnToolsVersion\": \"0.3.4\", \"failureMessage\": \"\", \"exceptionClass\": \"\", \"trace\": \"\"}}, \"*\")"
      ],
      "text/plain": [
       "<IPython.core.display.Javascript object>"
      ]
     },
     "metadata": {},
     "output_type": "display_data"
    },
    {
     "data": {
      "text/markdown": [
       "<span style=\"color:#33cc33\">Thank you for creating a map!</span>"
      ],
      "text/plain": [
       "Thank you for creating a map!"
      ]
     },
     "metadata": {},
     "output_type": "display_data"
    },
    {
     "data": {
      "application/javascript": [
       "parent.postMessage({\"jupyterEvent\": \"custom.exercise_interaction\", \"data\": {\"interactionType\": 3, \"questionType\": 2, \"questionId\": \"3.1_Q3P\", \"learnToolsVersion\": \"0.3.4\", \"valueTowardsCompletion\": 0.0, \"failureMessage\": \"\", \"exceptionClass\": \"\", \"trace\": \"\", \"outcomeType\": 4}}, \"*\")"
      ],
      "text/plain": [
       "<IPython.core.display.Javascript object>"
      ]
     },
     "metadata": {},
     "output_type": "display_data"
    },
    {
     "data": {
      "text/markdown": [
       "<span style=\"color:#33cc99\">Solution:</span> \n",
       "```python\n",
       "# Create a choropleth map to visualize population density\n",
       "Choropleth(geo_data=prefectures['geometry'].__geo_interface__,\n",
       "           data=stats['density'],\n",
       "           key_on=\"feature.id\",\n",
       "           fill_color='YlGnBu',\n",
       "           legend_name='Population density (per square kilometer)'\n",
       "          ).add_to(m_3)\n",
       "\n",
       "```"
      ],
      "text/plain": [
       "Solution: \n",
       "```python\n",
       "# Create a choropleth map to visualize population density\n",
       "Choropleth(geo_data=prefectures['geometry'].__geo_interface__,\n",
       "           data=stats['density'],\n",
       "           key_on=\"feature.id\",\n",
       "           fill_color='YlGnBu',\n",
       "           legend_name='Population density (per square kilometer)'\n",
       "          ).add_to(m_3)\n",
       "\n",
       "```"
      ]
     },
     "metadata": {},
     "output_type": "display_data"
    }
   ],
   "source": [
    "# Get credit for your work after you have created a map\n",
    "q_3.a.check()\n",
    "\n",
    "# Uncomment to see our solution (your code may look different!)\n",
    "q_3.a.solution()"
   ]
  },
  {
   "cell_type": "code",
   "execution_count": 16,
   "id": "4a76a61f",
   "metadata": {
    "execution": {
     "iopub.execute_input": "2023-12-20T09:55:35.615835Z",
     "iopub.status.busy": "2023-12-20T09:55:35.614878Z",
     "iopub.status.idle": "2023-12-20T09:55:46.952737Z",
     "shell.execute_reply": "2023-12-20T09:55:46.951608Z"
    },
    "papermill": {
     "duration": 11.360016,
     "end_time": "2023-12-20T09:55:46.955292",
     "exception": false,
     "start_time": "2023-12-20T09:55:35.595276",
     "status": "completed"
    },
    "tags": []
   },
   "outputs": [
    {
     "data": {
      "application/javascript": [
       "parent.postMessage({\"jupyterEvent\": \"custom.exercise_interaction\", \"data\": {\"interactionType\": 2, \"questionType\": 2, \"questionId\": \"3.1_Q3P\", \"learnToolsVersion\": \"0.3.4\", \"valueTowardsCompletion\": 0.0, \"failureMessage\": \"\", \"exceptionClass\": \"\", \"trace\": \"\", \"outcomeType\": 4}}, \"*\")"
      ],
      "text/plain": [
       "<IPython.core.display.Javascript object>"
      ]
     },
     "metadata": {},
     "output_type": "display_data"
    },
    {
     "data": {
      "text/markdown": [
       "<span style=\"color:#3366cc\">Hint:</span> Use `folium.Choropleth()` to create a choropleth map.  Remember to use the `__geo_interface__` method to construct the value for `geo_data`. Set `data` to a Pandas Series containing the population density data, and indexed by prefecture."
      ],
      "text/plain": [
       "Hint: Use `folium.Choropleth()` to create a choropleth map.  Remember to use the `__geo_interface__` method to construct the value for `geo_data`. Set `data` to a Pandas Series containing the population density data, and indexed by prefecture."
      ]
     },
     "metadata": {},
     "output_type": "display_data"
    },
    {
     "data": {
      "text/html": [
       "\n",
       "        <iframe\n",
       "            width=\"100%\"\n",
       "            height=\"500px\"\n",
       "            src=\"q_3.html\"\n",
       "            frameborder=\"0\"\n",
       "            allowfullscreen\n",
       "            \n",
       "        ></iframe>\n",
       "        "
      ],
      "text/plain": [
       "<IPython.lib.display.IFrame at 0x7de05eb5b0d0>"
      ]
     },
     "execution_count": 16,
     "metadata": {},
     "output_type": "execute_result"
    }
   ],
   "source": [
    "# Create a base map\n",
    "m_3 = folium.Map(location=[35,136], tiles='cartodbpositron', zoom_start=5)\n",
    "\n",
    "# Create a choropleth map to visualize population density\n",
    "Choropleth(geo_data=prefectures['geometry'].__geo_interface__,\n",
    "           data=stats['density'],\n",
    "           key_on=\"feature.id\",\n",
    "           fill_color='YlGnBu',\n",
    "           legend_name='Population density (per square kilometer)'\n",
    "          ).add_to(m_3)\n",
    "\n",
    "# Uncomment to see a hint\n",
    "q_3.a.hint()\n",
    "\n",
    "# View the map\n",
    "embed_map(m_3, 'q_3.html')"
   ]
  },
  {
   "cell_type": "markdown",
   "id": "8a9c2239",
   "metadata": {
    "papermill": {
     "duration": 0.018628,
     "end_time": "2023-12-20T09:55:46.993465",
     "exception": false,
     "start_time": "2023-12-20T09:55:46.974837",
     "status": "completed"
    },
    "tags": []
   },
   "source": [
    "In this code, using attribute prefectures['geometry'].geo_interface or prefectures.geo_interface produce same map output to m3"
   ]
  },
  {
   "cell_type": "markdown",
   "id": "ec52d74c",
   "metadata": {
    "papermill": {
     "duration": 0.01927,
     "end_time": "2023-12-20T09:55:47.033428",
     "exception": false,
     "start_time": "2023-12-20T09:55:47.014158",
     "status": "completed"
    },
    "tags": []
   },
   "source": []
  },
  {
   "cell_type": "markdown",
   "id": "2b1e663c",
   "metadata": {
    "papermill": {
     "duration": 0.019328,
     "end_time": "2023-12-20T09:55:47.071736",
     "exception": false,
     "start_time": "2023-12-20T09:55:47.052408",
     "status": "completed"
    },
    "tags": []
   },
   "source": [
    "Which three prefectures have relatively higher density than the others?  Are they spread throughout the country, or all located in roughly the same geographical region?  (*If you're unfamiliar with Japanese geography, you might find [this map](https://en.wikipedia.org/wiki/Prefectures_of_Japan) useful to answer the questions.)*"
   ]
  },
  {
   "cell_type": "markdown",
   "id": "34efab63",
   "metadata": {
    "papermill": {
     "duration": 0.018283,
     "end_time": "2023-12-20T09:55:47.108693",
     "exception": false,
     "start_time": "2023-12-20T09:55:47.090410",
     "status": "completed"
    },
    "tags": []
   },
   "source": [
    "my answer- tokoyo , kanagawa, Osaka"
   ]
  },
  {
   "cell_type": "code",
   "execution_count": 17,
   "id": "d0ffdcbe",
   "metadata": {
    "execution": {
     "iopub.execute_input": "2023-12-20T09:55:47.150255Z",
     "iopub.status.busy": "2023-12-20T09:55:47.149878Z",
     "iopub.status.idle": "2023-12-20T09:55:47.157794Z",
     "shell.execute_reply": "2023-12-20T09:55:47.156933Z"
    },
    "papermill": {
     "duration": 0.031845,
     "end_time": "2023-12-20T09:55:47.160514",
     "exception": false,
     "start_time": "2023-12-20T09:55:47.128669",
     "status": "completed"
    },
    "tags": []
   },
   "outputs": [
    {
     "data": {
      "application/javascript": [
       "parent.postMessage({\"jupyterEvent\": \"custom.exercise_interaction\", \"data\": {\"interactionType\": 3, \"questionType\": 4, \"questionId\": \"3.2_Q3T\", \"learnToolsVersion\": \"0.3.4\", \"valueTowardsCompletion\": 0.0, \"failureMessage\": \"\", \"exceptionClass\": \"\", \"trace\": \"\", \"outcomeType\": 4}}, \"*\")"
      ],
      "text/plain": [
       "<IPython.core.display.Javascript object>"
      ]
     },
     "metadata": {},
     "output_type": "display_data"
    },
    {
     "data": {
      "text/markdown": [
       "<span style=\"color:#33cc99\">Solution:</span> Tokyo, Kanagawa, and Osaka have the highest population density.  All of these prefectures are located in central Japan, and Tokyo and Kanagawa are adjacent."
      ],
      "text/plain": [
       "Solution: Tokyo, Kanagawa, and Osaka have the highest population density.  All of these prefectures are located in central Japan, and Tokyo and Kanagawa are adjacent."
      ]
     },
     "metadata": {},
     "output_type": "display_data"
    }
   ],
   "source": [
    "# View the solution (Run this code cell to receive credit!)\n",
    "q_3.b.solution()"
   ]
  },
  {
   "cell_type": "markdown",
   "id": "99fdf2f8",
   "metadata": {
    "papermill": {
     "duration": 0.019375,
     "end_time": "2023-12-20T09:55:47.199661",
     "exception": false,
     "start_time": "2023-12-20T09:55:47.180286",
     "status": "completed"
    },
    "tags": []
   },
   "source": [
    "### 4) Which high-density prefecture is prone to high-magnitude earthquakes?\n",
    "\n",
    "Create a map to suggest one prefecture that might benefit from earthquake reinforcement.  Your map should visualize both density and earthquake magnitude."
   ]
  },
  {
   "cell_type": "code",
   "execution_count": 18,
   "id": "334f90d1",
   "metadata": {
    "execution": {
     "iopub.execute_input": "2023-12-20T09:55:47.240274Z",
     "iopub.status.busy": "2023-12-20T09:55:47.239903Z",
     "iopub.status.idle": "2023-12-20T09:56:05.105748Z",
     "shell.execute_reply": "2023-12-20T09:56:05.104586Z"
    },
    "papermill": {
     "duration": 17.889241,
     "end_time": "2023-12-20T09:56:05.108358",
     "exception": false,
     "start_time": "2023-12-20T09:55:47.219117",
     "status": "completed"
    },
    "tags": []
   },
   "outputs": [
    {
     "data": {
      "application/javascript": [
       "parent.postMessage({\"jupyterEvent\": \"custom.exercise_interaction\", \"data\": {\"interactionType\": 2, \"questionType\": 2, \"questionId\": \"4.1_Q4P\", \"learnToolsVersion\": \"0.3.4\", \"valueTowardsCompletion\": 0.0, \"failureMessage\": \"\", \"exceptionClass\": \"\", \"trace\": \"\", \"outcomeType\": 4}}, \"*\")"
      ],
      "text/plain": [
       "<IPython.core.display.Javascript object>"
      ]
     },
     "metadata": {},
     "output_type": "display_data"
    },
    {
     "data": {
      "text/markdown": [
       "<span style=\"color:#3366cc\">Hint:</span> We visualized population density and earthquake magnitude by adding both a choropleth map and a bubble map to the base map."
      ],
      "text/plain": [
       "Hint: We visualized population density and earthquake magnitude by adding both a choropleth map and a bubble map to the base map."
      ]
     },
     "metadata": {},
     "output_type": "display_data"
    },
    {
     "data": {
      "text/html": [
       "\n",
       "        <iframe\n",
       "            width=\"100%\"\n",
       "            height=\"500px\"\n",
       "            src=\"q_4.html\"\n",
       "            frameborder=\"0\"\n",
       "            allowfullscreen\n",
       "            \n",
       "        ></iframe>\n",
       "        "
      ],
      "text/plain": [
       "<IPython.lib.display.IFrame at 0x7de068bb4e20>"
      ]
     },
     "execution_count": 18,
     "metadata": {},
     "output_type": "execute_result"
    }
   ],
   "source": [
    "# Create a base map\n",
    "m_4 = folium.Map(location=[35,136], tiles='cartodbpositron', zoom_start=5)\n",
    "\n",
    "# Your code here: create a map\n",
    "# Create a choropleth map to visualize population density\n",
    "Choropleth(geo_data=prefectures['geometry'].__geo_interface__,\n",
    "           data=stats['density'],\n",
    "           key_on=\"feature.id\",\n",
    "           fill_color='YlGnBu',\n",
    "           legend_name='Population density (per square kilometer)'\n",
    "          ).add_to(m_4)\n",
    "# Custom function to assign a color to each circle\n",
    "def color_producer(val):\n",
    "    if val < 6.5:\n",
    "        return 'forestgreen'\n",
    "    elif val < 7:\n",
    "        return 'darkorange'\n",
    "    else:\n",
    "        return 'darkred'\n",
    "\n",
    "# Add a map to visualize earthquake depth\n",
    "for i in range(0,len(earthquakes)):\n",
    "    folium.Circle(\n",
    "        location=[earthquakes.iloc[i]['Latitude'], earthquakes.iloc[i]['Longitude']],\n",
    "        radius=2000,\n",
    "        color=color_producer(earthquakes.iloc[i]['Magnitude'])).add_to(m_4)\n",
    "# Uncomment to see a hint\n",
    "q_4.a.hint()\n",
    "\n",
    "# View the map\n",
    "embed_map(m_4, 'q_4.html')"
   ]
  },
  {
   "cell_type": "code",
   "execution_count": 19,
   "id": "02c123da",
   "metadata": {
    "execution": {
     "iopub.execute_input": "2023-12-20T09:56:05.149951Z",
     "iopub.status.busy": "2023-12-20T09:56:05.149491Z",
     "iopub.status.idle": "2023-12-20T09:56:05.164266Z",
     "shell.execute_reply": "2023-12-20T09:56:05.163152Z"
    },
    "papermill": {
     "duration": 0.038713,
     "end_time": "2023-12-20T09:56:05.166788",
     "exception": false,
     "start_time": "2023-12-20T09:56:05.128075",
     "status": "completed"
    },
    "tags": []
   },
   "outputs": [
    {
     "data": {
      "application/javascript": [
       "parent.postMessage({\"jupyterEvent\": \"custom.exercise_interaction\", \"data\": {\"outcomeType\": 1, \"valueTowardsCompletion\": 1.0, \"interactionType\": 1, \"questionType\": 2, \"questionId\": \"4.1_Q4P\", \"learnToolsVersion\": \"0.3.4\", \"failureMessage\": \"\", \"exceptionClass\": \"\", \"trace\": \"\"}}, \"*\")"
      ],
      "text/plain": [
       "<IPython.core.display.Javascript object>"
      ]
     },
     "metadata": {},
     "output_type": "display_data"
    },
    {
     "data": {
      "text/markdown": [
       "<span style=\"color:#33cc33\">Thank you for creating a map!</span>"
      ],
      "text/plain": [
       "Thank you for creating a map!"
      ]
     },
     "metadata": {},
     "output_type": "display_data"
    },
    {
     "data": {
      "application/javascript": [
       "parent.postMessage({\"jupyterEvent\": \"custom.exercise_interaction\", \"data\": {\"interactionType\": 3, \"questionType\": 2, \"questionId\": \"4.1_Q4P\", \"learnToolsVersion\": \"0.3.4\", \"valueTowardsCompletion\": 0.0, \"failureMessage\": \"\", \"exceptionClass\": \"\", \"trace\": \"\", \"outcomeType\": 4}}, \"*\")"
      ],
      "text/plain": [
       "<IPython.core.display.Javascript object>"
      ]
     },
     "metadata": {},
     "output_type": "display_data"
    },
    {
     "data": {
      "text/markdown": [
       "<span style=\"color:#33cc99\">Solution:</span> \n",
       "```python\n",
       "# Create a map\n",
       "def color_producer(magnitude):\n",
       "    if magnitude > 6.5:\n",
       "        return 'red'\n",
       "    else:\n",
       "        return 'green'\n",
       "\n",
       "Choropleth(\n",
       "    geo_data=prefectures['geometry'].__geo_interface__,\n",
       "    data=stats['density'],\n",
       "    key_on=\"feature.id\",\n",
       "    fill_color='BuPu',\n",
       "    legend_name='Population density (per square kilometer)').add_to(m_4)\n",
       "\n",
       "for i in range(0,len(earthquakes)):\n",
       "    folium.Circle(\n",
       "        location=[earthquakes.iloc[i]['Latitude'], earthquakes.iloc[i]['Longitude']],\n",
       "        popup=(\"{} ({})\").format(\n",
       "            earthquakes.iloc[i]['Magnitude'],\n",
       "            earthquakes.iloc[i]['DateTime'].year),\n",
       "        radius=earthquakes.iloc[i]['Magnitude']**5.5,\n",
       "        color=color_producer(earthquakes.iloc[i]['Magnitude'])).add_to(m_4)\n",
       "\n",
       "```"
      ],
      "text/plain": [
       "Solution: \n",
       "```python\n",
       "# Create a map\n",
       "def color_producer(magnitude):\n",
       "    if magnitude > 6.5:\n",
       "        return 'red'\n",
       "    else:\n",
       "        return 'green'\n",
       "\n",
       "Choropleth(\n",
       "    geo_data=prefectures['geometry'].__geo_interface__,\n",
       "    data=stats['density'],\n",
       "    key_on=\"feature.id\",\n",
       "    fill_color='BuPu',\n",
       "    legend_name='Population density (per square kilometer)').add_to(m_4)\n",
       "\n",
       "for i in range(0,len(earthquakes)):\n",
       "    folium.Circle(\n",
       "        location=[earthquakes.iloc[i]['Latitude'], earthquakes.iloc[i]['Longitude']],\n",
       "        popup=(\"{} ({})\").format(\n",
       "            earthquakes.iloc[i]['Magnitude'],\n",
       "            earthquakes.iloc[i]['DateTime'].year),\n",
       "        radius=earthquakes.iloc[i]['Magnitude']**5.5,\n",
       "        color=color_producer(earthquakes.iloc[i]['Magnitude'])).add_to(m_4)\n",
       "\n",
       "```"
      ]
     },
     "metadata": {},
     "output_type": "display_data"
    }
   ],
   "source": [
    "# Get credit for your work after you have created a map\n",
    "q_4.a.check()\n",
    "\n",
    "# Uncomment to see our solution (your code may look different!)\n",
    "q_4.a.solution()"
   ]
  },
  {
   "cell_type": "code",
   "execution_count": 20,
   "id": "0edd8015",
   "metadata": {
    "execution": {
     "iopub.execute_input": "2023-12-20T09:56:05.210139Z",
     "iopub.status.busy": "2023-12-20T09:56:05.209769Z",
     "iopub.status.idle": "2023-12-20T09:56:30.119882Z",
     "shell.execute_reply": "2023-12-20T09:56:30.118774Z"
    },
    "papermill": {
     "duration": 24.935421,
     "end_time": "2023-12-20T09:56:30.122643",
     "exception": false,
     "start_time": "2023-12-20T09:56:05.187222",
     "status": "completed"
    },
    "tags": []
   },
   "outputs": [
    {
     "data": {
      "text/html": [
       "\n",
       "        <iframe\n",
       "            width=\"100%\"\n",
       "            height=\"500px\"\n",
       "            src=\"q_4.html\"\n",
       "            frameborder=\"0\"\n",
       "            allowfullscreen\n",
       "            \n",
       "        ></iframe>\n",
       "        "
      ],
      "text/plain": [
       "<IPython.lib.display.IFrame at 0x7de05e420f10>"
      ]
     },
     "execution_count": 20,
     "metadata": {},
     "output_type": "execute_result"
    }
   ],
   "source": [
    "# Create a base map\n",
    "m_4 = folium.Map(location=[35,136], tiles='cartodbpositron', zoom_start=5)\n",
    "\n",
    "# Create a map\n",
    "def color_producer(magnitude):\n",
    "    if magnitude > 6.5:\n",
    "        return 'red'\n",
    "    else:\n",
    "        return 'green'\n",
    "\n",
    "Choropleth(\n",
    "    geo_data=prefectures['geometry'].__geo_interface__,\n",
    "    data=stats['density'],\n",
    "    key_on=\"feature.id\",\n",
    "    fill_color='BuPu',\n",
    "    legend_name='Population density (per square kilometer)').add_to(m_4)\n",
    "\n",
    "for i in range(0,len(earthquakes)):\n",
    "    folium.Circle(\n",
    "        location=[earthquakes.iloc[i]['Latitude'], earthquakes.iloc[i]['Longitude']],\n",
    "        popup=(\"{} ({})\").format(\n",
    "            earthquakes.iloc[i]['Magnitude'],\n",
    "            earthquakes.iloc[i]['DateTime'].year),\n",
    "        radius=earthquakes.iloc[i]['Magnitude']**5.5,\n",
    "        color=color_producer(earthquakes.iloc[i]['Magnitude'])).add_to(m_4)\n",
    "# View the map\n",
    "embed_map(m_4, 'q_4.html')"
   ]
  },
  {
   "cell_type": "markdown",
   "id": "c01801e6",
   "metadata": {
    "papermill": {
     "duration": 0.020006,
     "end_time": "2023-12-20T09:56:30.163113",
     "exception": false,
     "start_time": "2023-12-20T09:56:30.143107",
     "status": "completed"
    },
    "tags": []
   },
   "source": [
    "Which prefecture do you recommend for extra earthquake reinforcement?"
   ]
  },
  {
   "cell_type": "markdown",
   "id": "f8ccf208",
   "metadata": {
    "papermill": {
     "duration": 0.020691,
     "end_time": "2023-12-20T09:56:30.203996",
     "exception": false,
     "start_time": "2023-12-20T09:56:30.183305",
     "status": "completed"
    },
    "tags": []
   },
   "source": [
    "My answer-Osaka"
   ]
  },
  {
   "cell_type": "code",
   "execution_count": 21,
   "id": "332948d1",
   "metadata": {
    "execution": {
     "iopub.execute_input": "2023-12-20T09:56:30.246946Z",
     "iopub.status.busy": "2023-12-20T09:56:30.246502Z",
     "iopub.status.idle": "2023-12-20T09:56:30.256122Z",
     "shell.execute_reply": "2023-12-20T09:56:30.254991Z"
    },
    "papermill": {
     "duration": 0.034005,
     "end_time": "2023-12-20T09:56:30.258478",
     "exception": false,
     "start_time": "2023-12-20T09:56:30.224473",
     "status": "completed"
    },
    "tags": []
   },
   "outputs": [
    {
     "data": {
      "application/javascript": [
       "parent.postMessage({\"jupyterEvent\": \"custom.exercise_interaction\", \"data\": {\"interactionType\": 3, \"questionType\": 4, \"questionId\": \"4.2_Q4T\", \"learnToolsVersion\": \"0.3.4\", \"valueTowardsCompletion\": 0.0, \"failureMessage\": \"\", \"exceptionClass\": \"\", \"trace\": \"\", \"outcomeType\": 4}}, \"*\")"
      ],
      "text/plain": [
       "<IPython.core.display.Javascript object>"
      ]
     },
     "metadata": {},
     "output_type": "display_data"
    },
    {
     "data": {
      "text/markdown": [
       "<span style=\"color:#33cc99\">Solution:</span> While there's no clear, single answer to this question, there are a few reasonable options. **Tokyo** is by far the most densely populated prefecture and has also experienced a number of earthquakes.  **Osaka** is relatively less densely populated, but experienced an earthquake that was relatively stronger than those near Tokyo.  And, the long coast of **Kanagawa** (in addition to its high density and the historical proximity of strong earthquakes) might lead us to worry about the added potential tsunami risk."
      ],
      "text/plain": [
       "Solution: While there's no clear, single answer to this question, there are a few reasonable options. **Tokyo** is by far the most densely populated prefecture and has also experienced a number of earthquakes.  **Osaka** is relatively less densely populated, but experienced an earthquake that was relatively stronger than those near Tokyo.  And, the long coast of **Kanagawa** (in addition to its high density and the historical proximity of strong earthquakes) might lead us to worry about the added potential tsunami risk."
      ]
     },
     "metadata": {},
     "output_type": "display_data"
    }
   ],
   "source": [
    "# View the solution (Run this code cell to receive credit!)\n",
    "q_4.b.solution()"
   ]
  },
  {
   "cell_type": "markdown",
   "id": "937c6574",
   "metadata": {
    "papermill": {
     "duration": 0.0205,
     "end_time": "2023-12-20T09:56:30.299870",
     "exception": false,
     "start_time": "2023-12-20T09:56:30.279370",
     "status": "completed"
    },
    "tags": []
   },
   "source": [
    "# Keep going\n",
    "\n",
    "Learn how to convert names of places to geographic coordinates with **[geocoding](https://www.kaggle.com/alexisbcook/manipulating-geospatial-data)**.  You'll also explore special ways to join information from multiple GeoDataFrames."
   ]
  },
  {
   "cell_type": "markdown",
   "id": "e05a29f9",
   "metadata": {
    "papermill": {
     "duration": 0.020324,
     "end_time": "2023-12-20T09:56:30.340935",
     "exception": false,
     "start_time": "2023-12-20T09:56:30.320611",
     "status": "completed"
    },
    "tags": []
   },
   "source": [
    "---\n",
    "\n",
    "\n",
    "\n",
    "\n",
    "*Have questions or comments? Visit the [course discussion forum](https://www.kaggle.com/learn/geospatial-analysis/discussion) to chat with other learners.*"
   ]
  }
 ],
 "metadata": {
  "kaggle": {
   "accelerator": "none",
   "dataSources": [
    {
     "datasetId": 348259,
     "sourceId": 695175,
     "sourceType": "datasetVersion"
    },
    {
     "datasetId": 116573,
     "sourceId": 3551030,
     "sourceType": "datasetVersion"
    }
   ],
   "isGpuEnabled": false,
   "isInternetEnabled": false,
   "language": "python",
   "sourceType": "notebook"
  },
  "kernelspec": {
   "display_name": "Python 3",
   "language": "python",
   "name": "python3"
  },
  "language_info": {
   "codemirror_mode": {
    "name": "ipython",
    "version": 3
   },
   "file_extension": ".py",
   "mimetype": "text/x-python",
   "name": "python",
   "nbconvert_exporter": "python",
   "pygments_lexer": "ipython3",
   "version": "3.10.12"
  },
  "papermill": {
   "default_parameters": {},
   "duration": 90.416825,
   "end_time": "2023-12-20T09:56:31.484894",
   "environment_variables": {},
   "exception": null,
   "input_path": "__notebook__.ipynb",
   "output_path": "__notebook__.ipynb",
   "parameters": {},
   "start_time": "2023-12-20T09:55:01.068069",
   "version": "2.4.0"
  }
 },
 "nbformat": 4,
 "nbformat_minor": 5
}
